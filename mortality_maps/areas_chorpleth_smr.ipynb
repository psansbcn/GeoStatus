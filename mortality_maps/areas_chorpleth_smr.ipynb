{
 "cells": [
  {
   "cell_type": "markdown",
   "id": "966acaa1",
   "metadata": {},
   "source": [
    "### Choropleth Map SMR"
   ]
  },
  {
   "cell_type": "code",
   "execution_count": null,
   "id": "18897a68",
   "metadata": {},
   "outputs": [],
   "source": [
    "# import the library\n",
    "from shapely.geometry import shape\n",
    "import geopandas as gpd\n",
    "\n",
    "import folium, json, requests\n",
    "import pandas as pd\n",
    "import math"
   ]
  },
  {
   "cell_type": "code",
   "execution_count": null,
   "id": "012906ea",
   "metadata": {},
   "outputs": [],
   "source": [
    "df=pd.read_csv('../data/SMRs_all.csv', sep=';').reset_index(drop=True)\n",
    "df.drop(['geo_point_2d'],axis=1,inplace=True)\n",
    "df.head(1)"
   ]
  },
  {
   "cell_type": "code",
   "execution_count": null,
   "id": "c28594c3",
   "metadata": {},
   "outputs": [],
   "source": [
    "#add 0 before the 4 digit codgeo\n",
    "def fours(ge):\n",
    "        k=len(ge)\n",
    "        if k == 4:\n",
    "            m= '0'+ge\n",
    "            return m\n",
    "        else:\n",
    "            return ge\n",
    "        \n",
    "df['CODGEO']=df['CODGEO'].apply(fours)"
   ]
  },
  {
   "cell_type": "code",
   "execution_count": null,
   "id": "d6e4ecdd",
   "metadata": {},
   "outputs": [],
   "source": [
    "df[df['CODGEO']=='01073']"
   ]
  },
  {
   "cell_type": "code",
   "execution_count": null,
   "id": "b19fc34b",
   "metadata": {},
   "outputs": [],
   "source": [
    "df1=pd.read_csv('../data/communes_codego_definitiva.csv', index_col=0).reset_index(drop=True)\n",
    "#df1.drop(['Commune'],axis=1,inplace=True)\n",
    "df1.head()"
   ]
  },
  {
   "cell_type": "code",
   "execution_count": null,
   "id": "55aa9635",
   "metadata": {},
   "outputs": [],
   "source": [
    "df1[df1['CODGEO']=='01073']"
   ]
  },
  {
   "cell_type": "code",
   "execution_count": null,
   "id": "b6953c09",
   "metadata": {},
   "outputs": [],
   "source": [
    "maindf=pd.merge(df,df1, on='CODGEO')\n",
    "maindf.head(2)"
   ]
  },
  {
   "cell_type": "code",
   "execution_count": null,
   "id": "f2500e73",
   "metadata": {},
   "outputs": [],
   "source": [
    "maindf[maindf['CODGEO']=='75104']"
   ]
  },
  {
   "cell_type": "code",
   "execution_count": null,
   "id": "62d2bfbe",
   "metadata": {},
   "outputs": [],
   "source": [
    "maindf['SMR'] = maindf['SMR'].str.replace(',', '.').astype(float)"
   ]
  },
  {
   "cell_type": "code",
   "execution_count": null,
   "id": "e9791f22",
   "metadata": {},
   "outputs": [],
   "source": [
    "#maindf=maindf[maindf['SMR'] >= 1]\n",
    "maindf=maindf[maindf['Population'] >= 0.1]\n",
    "maindf1=maindf[['CODGEO','SMR','lat','lon','Commune','Population']]\n",
    "maindf1.head(2)"
   ]
  },
  {
   "cell_type": "markdown",
   "id": "029e825c",
   "metadata": {},
   "source": [
    "##### polygons"
   ]
  },
  {
   "cell_type": "code",
   "execution_count": null,
   "id": "f4073839",
   "metadata": {},
   "outputs": [],
   "source": [
    "poly=pd.read_csv('../data/communes_polygon.csv', index_col=0)\n",
    "poly.head(1)"
   ]
  },
  {
   "cell_type": "code",
   "execution_count": null,
   "id": "41fafb70",
   "metadata": {
    "scrolled": true
   },
   "outputs": [],
   "source": [
    "#Apply 4s to CODGEO        \n",
    "poly['CODGEO']=poly['CODGEO'].apply(fours)\n",
    "poly.head()"
   ]
  },
  {
   "cell_type": "code",
   "execution_count": null,
   "id": "92306fc9",
   "metadata": {},
   "outputs": [],
   "source": [
    "poly = poly.rename(columns = {\"CODGEO\":\"code\"})"
   ]
  },
  {
   "cell_type": "code",
   "execution_count": null,
   "id": "d178c2cb",
   "metadata": {},
   "outputs": [],
   "source": [
    "#maindf1[maindf1['code'] == '01073']"
   ]
  },
  {
   "cell_type": "code",
   "execution_count": null,
   "id": "955e1121",
   "metadata": {},
   "outputs": [],
   "source": [
    "maindf1 = maindf1.rename(columns = {\"CODGEO\":\"code\"})"
   ]
  },
  {
   "cell_type": "code",
   "execution_count": null,
   "id": "d9d3b79d",
   "metadata": {},
   "outputs": [],
   "source": [
    "final_df = poly.merge(maindf1, on = \"code\")\n",
    "final_df=final_df.dropna()\n",
    "final_df.head(2)"
   ]
  },
  {
   "cell_type": "code",
   "execution_count": null,
   "id": "b9357b44",
   "metadata": {},
   "outputs": [],
   "source": [
    "#ADD new SMR colums\n",
    "dfsmr=pd.read_csv('../data/simplified_SMRs_all.csv', sep=';', index_col=0)\n",
    "#dfsmr.drop(['geo_point_2d'],axis=1,inplace=True)\n",
    "dfsmr.head(1)"
   ]
  },
  {
   "cell_type": "code",
   "execution_count": null,
   "id": "592e6378",
   "metadata": {},
   "outputs": [],
   "source": [
    "#Apply 4s to CODGEO        \n",
    "dfsmr['CODGEO']=dfsmr['CODGEO'].apply(fours)\n",
    "dfsmr = dfsmr.rename(columns = {\"CODGEO\":\"code\"})\n",
    "dfsmr.head(2)"
   ]
  },
  {
   "cell_type": "code",
   "execution_count": null,
   "id": "6ab871ab",
   "metadata": {},
   "outputs": [],
   "source": [
    "#MERGE new table\n",
    "final_df = final_df.merge(dfsmr, on = \"code\")\n",
    "final_df.head(2)"
   ]
  },
  {
   "cell_type": "code",
   "execution_count": null,
   "id": "eec0f699",
   "metadata": {},
   "outputs": [],
   "source": [
    "final_df = final_df.rename(columns = {\"geo_shape1\":\"geometry\"})"
   ]
  },
  {
   "cell_type": "code",
   "execution_count": null,
   "id": "245e2dae",
   "metadata": {},
   "outputs": [],
   "source": [
    "final_df['cityIndicator'].describe()"
   ]
  },
  {
   "cell_type": "code",
   "execution_count": null,
   "id": "c0dc4bee",
   "metadata": {},
   "outputs": [],
   "source": [
    "from shapely import wkt\n"
   ]
  },
  {
   "cell_type": "code",
   "execution_count": null,
   "id": "1af69030",
   "metadata": {},
   "outputs": [],
   "source": [
    "final_df.crs = 'epsg:4326'"
   ]
  },
  {
   "cell_type": "code",
   "execution_count": null,
   "id": "407543bb",
   "metadata": {},
   "outputs": [],
   "source": [
    "final_df['geometry'] = final_df['geometry'].apply(wkt.loads)\n",
    "final_df = gpd.GeoDataFrame(final_df, crs='epsg:4326')\n",
    "type(final_df)"
   ]
  },
  {
   "cell_type": "code",
   "execution_count": null,
   "id": "4d19436c",
   "metadata": {},
   "outputs": [],
   "source": [
    "#gdf=final_df[final_df['code'] == '63402']\n",
    "#gdf.info()\n",
    "#final_df=gdf.copy()\n",
    "#final_df=final_df[23200:28200]\n",
    "final_df.info()"
   ]
  },
  {
   "cell_type": "code",
   "execution_count": null,
   "id": "00d31ea0",
   "metadata": {},
   "outputs": [],
   "source": [
    "final_df['SMR'].describe()"
   ]
  },
  {
   "cell_type": "markdown",
   "id": "c94732e4",
   "metadata": {},
   "source": [
    "##### build map"
   ]
  },
  {
   "cell_type": "code",
   "execution_count": null,
   "id": "e3873178",
   "metadata": {},
   "outputs": [],
   "source": [
    "# Make an empty map\n",
    "m = folium.Map(location = [46.71109,1.7191036], tiles=None,zoom_start=6,min_zoom = 5,max_zoom = 10,control=False)\n",
    "\n",
    "\n",
    "folium.TileLayer(\n",
    "    tiles=\"cartodbpositron\",zoom_start=6,min_zoom = 5,max_zoom = 10,\n",
    "    name='darkmatter',\n",
    "    control=False,\n",
    "    opacity=0.7\n",
    ").add_to(m)\n"
   ]
  },
  {
   "cell_type": "markdown",
   "id": "76e8b36c",
   "metadata": {},
   "source": [
    "##### choropleth Département"
   ]
  },
  {
   "cell_type": "code",
   "execution_count": null,
   "id": "159b1c59",
   "metadata": {
    "scrolled": false
   },
   "outputs": [],
   "source": [
    "\n",
    "\n",
    "#bins = list(final_df[\"dptIndicator\"].quantile([0,0.19,0.22, 0.23,   0.38,0.4,0.4181,  1]))\n",
    "\n",
    "bins = list(final_df[\"dptIndicator\"].quantile([0,0.19,0.22, 0.23,   0.38,0.4,0.4181,  1]))\n",
    "\n",
    "\n",
    "choropleth=folium.Choropleth(geo_data=final_df, name=\"dptIndicator\",\n",
    "                  data=final_df,\n",
    "                  columns=['code',\"dptIndicator\"],\n",
    "                  smooth_factor=0, line_opacity=0,\n",
    "                  fill_color = 'RdYlGn_r',\n",
    "                  fill_opacity=0.7,\n",
    "                  bins=bins,\n",
    "                             control=False,legend_name='Département Indicator',\n",
    "                  key_on=\"feature.properties.code\")\n",
    "\n",
    "choropleth.add_to(m) \n",
    "#m"
   ]
  },
  {
   "cell_type": "code",
   "execution_count": null,
   "id": "9ec68f3d",
   "metadata": {},
   "outputs": [],
   "source": [
    "#m.save('departement_indicator.html')"
   ]
  },
  {
   "cell_type": "code",
   "execution_count": null,
   "id": "539107cd",
   "metadata": {},
   "outputs": [],
   "source": [
    "import io\n",
    "from PIL import Image\n",
    "\n",
    "img_data = m._to_png(5)\n",
    "img = Image.open(io.BytesIO(img_data))\n",
    "img.save('departement_indicator.png')"
   ]
  },
  {
   "cell_type": "markdown",
   "id": "e1bf6e8d",
   "metadata": {},
   "source": [
    "##### choropleth Canton"
   ]
  },
  {
   "cell_type": "code",
   "execution_count": null,
   "id": "43217f90",
   "metadata": {},
   "outputs": [],
   "source": [
    "# Make an empty map\n",
    "m = folium.Map(location = [46.71109,1.7191036], tiles=None,zoom_start=6,min_zoom = 5,max_zoom = 10,control=False)\n",
    "\n",
    "\n",
    "folium.TileLayer(\n",
    "    tiles=\"cartodbpositron\",zoom_start=6,min_zoom = 5,max_zoom = 10,\n",
    "    name='darkmatter',\n",
    "    control=False,\n",
    "    opacity=0.7\n",
    ").add_to(m)\n"
   ]
  },
  {
   "cell_type": "code",
   "execution_count": null,
   "id": "ede55488",
   "metadata": {
    "scrolled": true
   },
   "outputs": [],
   "source": [
    "\n",
    "\n",
    "#bins = list(final_df[\"cantonIndicator\"].quantile([0,0.06,0.08,0.1,     0.8,0.91, 0.95,  1]))\n",
    "bins = list(final_df[\"cantonIndicator\"].quantile([0,0.04,    0.08,0.15,     0.6,0.7, 0.8,  1]))\n",
    "\n",
    "\n",
    "choropleth=folium.Choropleth(geo_data=final_df, name=\"cantonIndicator\",\n",
    "                  data=final_df,\n",
    "                  columns=['code',\"cantonIndicator\"],\n",
    "                  smooth_factor=0, line_opacity=0,\n",
    "                  fill_color = 'RdYlGn_r',\n",
    "                  fill_opacity=0.7,\n",
    "                  bins=bins,\n",
    "                             control=False,legend_name='Canton Indicator',\n",
    "                  key_on=\"feature.properties.code\")\n",
    "\n",
    "choropleth.add_to(m) \n",
    "#m"
   ]
  },
  {
   "cell_type": "code",
   "execution_count": null,
   "id": "0dcbdb15",
   "metadata": {},
   "outputs": [],
   "source": [
    "#m.save('canton_indicator.html')"
   ]
  },
  {
   "cell_type": "code",
   "execution_count": null,
   "id": "6c180399",
   "metadata": {},
   "outputs": [],
   "source": [
    "import io\n",
    "from PIL import Image\n",
    "\n",
    "img_data = m._to_png(5)\n",
    "img = Image.open(io.BytesIO(img_data))\n",
    "img.save('canton_indicator.png')"
   ]
  },
  {
   "cell_type": "markdown",
   "id": "6c84fd49",
   "metadata": {},
   "source": [
    "##### choropleth City"
   ]
  },
  {
   "cell_type": "code",
   "execution_count": null,
   "id": "fad0bca7",
   "metadata": {},
   "outputs": [],
   "source": [
    "# Make an empty map\n",
    "m = folium.Map(location = [46.71109,1.7191036], tiles=None,zoom_start=6,min_zoom = 5,max_zoom = 10,control=False)\n",
    "\n",
    "\n",
    "folium.TileLayer(\n",
    "    tiles=\"cartodbpositron\",zoom_start=6,min_zoom = 5,max_zoom = 10,\n",
    "    name='darkmatter',\n",
    "    control=False,\n",
    "    opacity=0.7\n",
    ").add_to(m)\n"
   ]
  },
  {
   "cell_type": "code",
   "execution_count": null,
   "id": "eae4f9e5",
   "metadata": {},
   "outputs": [],
   "source": [
    "\n",
    "#bins = list(final_df[\"SMR\"].quantile([0,0.15, 0.3,0.4, 0.75, 0.85,1]))\n",
    "#bins = list(final_df[\"cityIndicator\"].quantile([0,0.05,0.25,0.6,0.8,0.95,0.99,1]))\n",
    "bins = list(final_df[\"cityIndicator\"].quantile([0,0.01,0.02,0.1,     0.9,0.91, 0.95,  1]))\n",
    "\n",
    "\n",
    "choropleth=folium.Choropleth(geo_data=final_df, name=\"cityIndicator\",\n",
    "                  data=final_df,\n",
    "                  columns=['code',\"cityIndicator\"],\n",
    "                  smooth_factor=0, line_opacity=0,\n",
    "                  fill_color = 'RdYlGn_r',\n",
    "                  fill_opacity=0.7,\n",
    "                  bins=bins,\n",
    "                             control=False,legend_name='City Indicator',\n",
    "                  key_on=\"feature.properties.code\")\n",
    "\n",
    "choropleth.add_to(m) \n",
    "\n",
    "#m"
   ]
  },
  {
   "cell_type": "code",
   "execution_count": null,
   "id": "2cd7f63c",
   "metadata": {},
   "outputs": [],
   "source": [
    "#m.save('city_indicator.html')"
   ]
  },
  {
   "cell_type": "code",
   "execution_count": null,
   "id": "52b5cf12",
   "metadata": {},
   "outputs": [],
   "source": [
    "import io\n",
    "from PIL import Image\n",
    "\n",
    "img_data = m._to_png(5)\n",
    "img = Image.open(io.BytesIO(img_data))\n",
    "img.save('city_indicator.png')"
   ]
  }
 ],
 "metadata": {
  "kernelspec": {
   "display_name": "Python 3 (ipykernel)",
   "language": "python",
   "name": "python3"
  },
  "language_info": {
   "codemirror_mode": {
    "name": "ipython",
    "version": 3
   },
   "file_extension": ".py",
   "mimetype": "text/x-python",
   "name": "python",
   "nbconvert_exporter": "python",
   "pygments_lexer": "ipython3",
   "version": "3.8.2"
  }
 },
 "nbformat": 4,
 "nbformat_minor": 5
}
